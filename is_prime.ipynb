{
  "nbformat": 4,
  "nbformat_minor": 0,
  "metadata": {
    "colab": {
      "name": "is_prime.ipynb",
      "provenance": [],
      "authorship_tag": "ABX9TyOOJNY7QZ8yDneNCn3P8+49",
      "include_colab_link": true
    },
    "kernelspec": {
      "name": "python3",
      "display_name": "Python 3"
    },
    "language_info": {
      "name": "python"
    }
  },
  "cells": [
    {
      "cell_type": "markdown",
      "metadata": {
        "id": "view-in-github",
        "colab_type": "text"
      },
      "source": [
        "<a href=\"https://colab.research.google.com/github/ddale23/data300/blob/main/is_prime.ipynb\" target=\"_parent\"><img src=\"https://colab.research.google.com/assets/colab-badge.svg\" alt=\"Open In Colab\"/></a>"
      ]
    },
    {
      "cell_type": "code",
      "execution_count": null,
      "metadata": {
        "id": "YGJ0y2mKmB8_"
      },
      "outputs": [],
      "source": [
        "# is prime function\n",
        "def is_prime(num):\n",
        "  if num <= 0:\n",
        "    return False\n",
        "  elif num == 1 or num == 2 or num == 3:\n",
        "    return True\n",
        "  elif num % 2 == 0:\n",
        "    return False\n",
        "  else:\n",
        "    for i in range(3, int(num / 2 + 1), 2):\n",
        "      check = num % i\n",
        "      if check == 0:\n",
        "        return False\n",
        "        break\n",
        "    return True"
      ]
    },
    {
      "cell_type": "code",
      "source": [
        "is_prime(121)"
      ],
      "metadata": {
        "colab": {
          "base_uri": "https://localhost:8080/"
        },
        "id": "V9QkQpKVmH1w",
        "outputId": "35ca83c7-01a7-46d5-9aa9-fa75e8638592"
      },
      "execution_count": null,
      "outputs": [
        {
          "output_type": "execute_result",
          "data": {
            "text/plain": [
              "False"
            ]
          },
          "metadata": {},
          "execution_count": 2
        }
      ]
    },
    {
      "cell_type": "code",
      "source": [
        "is_prime(625846297)"
      ],
      "metadata": {
        "colab": {
          "base_uri": "https://localhost:8080/"
        },
        "id": "gg3e53wfmM71",
        "outputId": "5acd4529-4122-4b8c-b353-459be582c011"
      },
      "execution_count": null,
      "outputs": [
        {
          "output_type": "execute_result",
          "data": {
            "text/plain": [
              "True"
            ]
          },
          "metadata": {},
          "execution_count": 3
        }
      ]
    },
    {
      "cell_type": "code",
      "source": [
        "is_prime(6258462983)"
      ],
      "metadata": {
        "id": "mio97kzpmJQc"
      },
      "execution_count": null,
      "outputs": []
    }
  ]
}